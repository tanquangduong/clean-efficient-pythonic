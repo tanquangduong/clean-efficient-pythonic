{
 "cells": [
  {
   "cell_type": "code",
   "execution_count": 3,
   "id": "3a1b0cd3",
   "metadata": {},
   "outputs": [
    {
     "name": "stdout",
     "output_type": "stream",
     "text": [
      "{'orange', 'banana'}\n"
     ]
    }
   ],
   "source": [
    "fruits = {'orange', 'banana'}\n",
    "print(fruits)"
   ]
  },
  {
   "cell_type": "code",
   "execution_count": 6,
   "id": "97abe45f",
   "metadata": {},
   "outputs": [],
   "source": [
    "bracket_A = {'orange', 'banana', 'kiwi'}\n",
    "bracket_B = {'melon', 'strawberry', 'kiwi', 'tomato'}"
   ]
  },
  {
   "cell_type": "markdown",
   "id": "977f7ee4",
   "metadata": {},
   "source": [
    "# Union"
   ]
  },
  {
   "cell_type": "code",
   "execution_count": 7,
   "id": "cec76972",
   "metadata": {},
   "outputs": [
    {
     "data": {
      "text/plain": [
       "{'banana', 'kiwi', 'melon', 'orange', 'strawberry', 'tomato'}"
      ]
     },
     "execution_count": 7,
     "metadata": {},
     "output_type": "execute_result"
    }
   ],
   "source": [
    "bracket_A | bracket_B"
   ]
  },
  {
   "cell_type": "markdown",
   "id": "215780db",
   "metadata": {},
   "source": [
    "# Intersact"
   ]
  }
 ],
 "metadata": {
  "kernelspec": {
   "display_name": "Python 3 (ipykernel)",
   "language": "python",
   "name": "python3"
  },
  "language_info": {
   "codemirror_mode": {
    "name": "ipython",
    "version": 3
   },
   "file_extension": ".py",
   "mimetype": "text/x-python",
   "name": "python",
   "nbconvert_exporter": "python",
   "pygments_lexer": "ipython3",
   "version": "3.9.13"
  }
 },
 "nbformat": 4,
 "nbformat_minor": 5
}
